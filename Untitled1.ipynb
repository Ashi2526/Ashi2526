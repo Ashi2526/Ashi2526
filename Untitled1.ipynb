{
  "nbformat": 4,
  "nbformat_minor": 0,
  "metadata": {
    "colab": {
      "provenance": [],
      "mount_file_id": "10F6lXPrepQ04zqIuJQKyXGnmBTCXaf_s",
      "authorship_tag": "ABX9TyMtBKBKkvAboTk1/tGPnh2K"
    },
    "kernelspec": {
      "name": "python3",
      "display_name": "Python 3"
    },
    "language_info": {
      "name": "python"
    }
  },
  "cells": [
    {
      "cell_type": "code",
      "execution_count": 1,
      "metadata": {
        "colab": {
          "base_uri": "https://localhost:8080/"
        },
        "id": "anJRb1gA2az6",
        "outputId": "68147885-4506-4155-ae55-5be10dcbfdc4"
      },
      "outputs": [
        {
          "output_type": "stream",
          "name": "stdout",
          "text": [
            "Cloning into 'S.H.A.D.Y'...\n",
            "remote: Enumerating objects: 390, done.\u001b[K\n",
            "remote: Counting objects: 100% (390/390), done.\u001b[K\n",
            "remote: Compressing objects: 100% (270/270), done.\u001b[K\n",
            "remote: Total 390 (delta 133), reused 342 (delta 96), pack-reused 0\u001b[K\n",
            "Receiving objects: 100% (390/390), 32.38 MiB | 29.09 MiB/s, done.\n",
            "Resolving deltas: 100% (133/133), done.\n"
          ]
        }
      ],
      "source": [
        "!git clone https://github.com/vibhorkrishna/S.H.A.D.Y.git"
      ]
    }
  ]
}